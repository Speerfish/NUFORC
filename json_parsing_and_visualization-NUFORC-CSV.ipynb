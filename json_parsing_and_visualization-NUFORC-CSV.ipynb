{
  "metadata": {
    "kernelspec": {
      "name": "python",
      "display_name": "Python (Pyodide)",
      "language": "python"
    },
    "language_info": {
      "codemirror_mode": {
        "name": "python",
        "version": 3
      },
      "file_extension": ".py",
      "mimetype": "text/x-python",
      "name": "python",
      "nbconvert_exporter": "python",
      "pygments_lexer": "ipython3",
      "version": "3.8"
    }
  },
  "nbformat_minor": 5,
  "nbformat": 4,
  "cells": [
    {
      "id": "e40f3f1c",
      "cell_type": "markdown",
      "source": "# Jupyter Notebook: Parsing CSV and Visualizing Data",
      "metadata": {}
    },
    {
      "id": "b92958ba",
      "cell_type": "markdown",
      "source": "In this notebook, we will load a CSV file, convert it to a pandas DataFrame, and then create map visualizations using Folium.",
      "metadata": {}
    },
    {
      "id": "2736d75a-a1d3-4ce2-91be-dbf65d07bd2e",
      "cell_type": "code",
      "source": "import piplite\nawait piplite.install(['pandas'])\nawait piplite.install(['geopandas'])\nawait piplite.install(['folium'])",
      "metadata": {
        "trusted": true
      },
      "outputs": [],
      "execution_count": null
    },
    {
      "id": "531a9327",
      "cell_type": "code",
      "source": "# Import necessary libraries\nimport pandas as pd\nimport geopandas as gpd\nimport folium\nfrom folium.plugins import MarkerCluster",
      "metadata": {
        "trusted": true
      },
      "outputs": [],
      "execution_count": null
    },
    {
      "id": "a0464c5b",
      "cell_type": "markdown",
      "source": "## Step 1: Load CSV File and Parse Data",
      "metadata": {}
    },
    {
      "id": "0c77ba18-12a0-416a-af17-2ae9a36aff81",
      "cell_type": "code",
      "source": "# Load NUFORC data (through 2013)\nnuforc_data = pd.read_csv('scrubbed.csv', low_memory=False)\n# Check column names\nprint(nuforc_data.columns)",
      "metadata": {
        "trusted": true
      },
      "outputs": [],
      "execution_count": null
    },
    {
      "id": "45163a47-d685-4793-af83-d79bb75845db",
      "cell_type": "markdown",
      "source": "## Step 2: Check for Invalid Values in Latitude and Longitude",
      "metadata": {}
    },
    {
      "id": "5002cbe7-55a0-4ee0-97d8-a3286db58daf",
      "cell_type": "code",
      "source": "# Check for non-numeric values in 'latitude' and 'longitude'\ninvalid_lat = nuforc_data[pd.to_numeric(nuforc_data['latitude'], errors='coerce').isna()]\ninvalid_lon = nuforc_data[pd.to_numeric(nuforc_data['longitude'], errors='coerce').isna()]\n\n# Print invalid latitude and longitude entries\nprint(\"Invalid Latitude Entries:\")\nprint(invalid_lat)\n\nprint(\"\\nInvalid Longitude Entries:\")\nprint(invalid_lon)",
      "metadata": {
        "trusted": true
      },
      "outputs": [],
      "execution_count": null
    },
    {
      "id": "db069849-d61b-4780-a277-ec7069aed8ca",
      "cell_type": "markdown",
      "source": "## Step 3: Remove or Correct Invalid Entries",
      "metadata": {}
    },
    {
      "id": "4dd7fef3-4a03-4650-942a-39a496c0d283",
      "cell_type": "code",
      "source": "# Convert 'latitude' and 'longitude' columns to numeric, setting invalid entries to NaN\nnuforc_data['latitude'] = pd.to_numeric(nuforc_data['latitude'], errors='coerce')\nnuforc_data['longitude'] = pd.to_numeric(nuforc_data['longitude'], errors='coerce')\n\n# Drop rows with NaN values in 'latitude' or 'longitude'\nnuforc_data = nuforc_data.dropna(subset=['latitude', 'longitude'])",
      "metadata": {
        "trusted": true
      },
      "outputs": [],
      "execution_count": null
    },
    {
      "id": "7103c7d1-97fd-4b82-8d65-11d523771d1f",
      "cell_type": "markdown",
      "source": "## Step 4: Create the Searchable Global Map Using Folium",
      "metadata": {}
    },
    {
      "id": "d759d7f8",
      "cell_type": "code",
      "source": "# Initialize a map centered globally (e.g., on the USA)\nufo_map = folium.Map(location=[0, 0], zoom_start=2)\n\n# Create a marker cluster for better visualization\nmarker_cluster = MarkerCluster().add_to(ufo_map)\n\n# Add sightings to the map\nfor idx, sighting in nuforc_data.iterrows():\n    # Ensure latitude and longitude data are available\n    if not pd.isna(sighting['latitude']) and not pd.isna(sighting['longitude']):\n        # Create a popup with sighting details\n        popup_text = f\"Sighting Date: {sighting['datetime']}<br>City: {sighting['city']}<br>State: {sighting['state']}<br>Country: {sighting['country']}<br>Shape: {sighting['shape']}<br>Duration: {sighting['duration (hours/min)']}<br>Description: {sighting['comments']}\"\n        \n        # Add each sighting to the map\n        folium.Marker(\n            location=[sighting['latitude'], sighting['longitude']],\n            popup=folium.Popup(popup_text, max_width=300)\n        ).add_to(marker_cluster)\n\n# Show the map\nufo_map",
      "metadata": {
        "trusted": true
      },
      "outputs": [],
      "execution_count": null
    },
    {
      "id": "c1f7a195-ec9c-4c8e-a301-5b59297f0fc0",
      "cell_type": "markdown",
      "source": "## Step 5: Make the Map Searchable",
      "metadata": {}
    },
    {
      "id": "6580f7f3-b45e-4d88-9aa7-923ed94a0d2f",
      "cell_type": "code",
      "source": "from folium.plugins import Search\n\n# Add a search feature based on the marker's 'popup' property (in this case, UFO descriptions)\nsearch = Search(\n    layer=marker_cluster,\n    geom_type='Point',\n    placeholder='Search for a sighting...',\n    collapsed=False,\n).add_to(ufo_map)\n\n# Display the map with search enabled\nufo_map",
      "metadata": {
        "trusted": true
      },
      "outputs": [],
      "execution_count": null
    },
    {
      "id": "c6d97be6",
      "cell_type": "markdown",
      "source": "## Step 6: Export or Save the Map",
      "metadata": {}
    },
    {
      "id": "dbec8434",
      "cell_type": "code",
      "source": "# Save the map as an HTML file\nufo_map.save('ufo_sightings_map.html')",
      "metadata": {
        "trusted": true
      },
      "outputs": [],
      "execution_count": null
    }
  ]
}